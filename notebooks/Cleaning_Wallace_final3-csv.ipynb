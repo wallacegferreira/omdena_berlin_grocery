{
 "cells": [
  {
   "attachments": {},
   "cell_type": "markdown",
   "metadata": {},
   "source": [
    "# Cleaning data file\n",
    "\n",
    "Wallace G. Ferreira "
   ]
  },
  {
   "attachments": {},
   "cell_type": "markdown",
   "metadata": {},
   "source": [
    "# Imports"
   ]
  },
  {
   "cell_type": "code",
   "execution_count": 3,
   "metadata": {},
   "outputs": [],
   "source": [
    "import numpy as np\n",
    "import pandas as pd"
   ]
  },
  {
   "attachments": {},
   "cell_type": "markdown",
   "metadata": {},
   "source": [
    "# Load original data file"
   ]
  },
  {
   "cell_type": "code",
   "execution_count": 4,
   "metadata": {},
   "outputs": [],
   "source": [
    "df = pd.read_csv('final3.csv',low_memory=False)"
   ]
  },
  {
   "cell_type": "code",
   "execution_count": 5,
   "metadata": {},
   "outputs": [
    {
     "name": "stdout",
     "output_type": "stream",
     "text": [
      "<class 'pandas.core.frame.DataFrame'>\n",
      "RangeIndex: 146626 entries, 0 to 146625\n",
      "Data columns (total 32 columns):\n",
      " #   Column                 Non-Null Count   Dtype  \n",
      "---  ------                 --------------   -----  \n",
      " 0   UID                    146626 non-null  int64  \n",
      " 1   PRODUCT_NAME           146626 non-null  object \n",
      " 2   IMAGE_URL              145947 non-null  object \n",
      " 3   PRODUCT_PRICE          103680 non-null  float64\n",
      " 4   PRODUCT_LINK           146534 non-null  object \n",
      " 5   PRODUCT_INFORMATION_T  33047 non-null   object \n",
      " 6   CATEGORY               145771 non-null  object \n",
      " 7   SUB_CATEGORY           127278 non-null  object \n",
      " 8   PRICE_PER_KG/L         80700 non-null   object \n",
      " 9   PRODUCT_QUANTITY       25141 non-null   object \n",
      " 10  SATURATED_FATTY_ACIDS  54283 non-null   float64\n",
      " 11  CARBOHYDRATES          56437 non-null   float64\n",
      " 12  SUGAR                  54697 non-null   float64\n",
      " 13  PROTEIN                55964 non-null   float64\n",
      " 14  FIBER                  7872 non-null    float64\n",
      " 15  SALT                   52819 non-null   float64\n",
      " 16  FAT                    55951 non-null   float64\n",
      " 17  INGREDIENTS            117767 non-null  object \n",
      " 18  ALLERGENS              4464 non-null    object \n",
      " 19  STORAGE_INFORMATION    45094 non-null   object \n",
      " 20  MANUFACTURER           109676 non-null  object \n",
      " 21  STORE_NAME             124173 non-null  object \n",
      " 22  PRODUCT_REVIEWS        71852 non-null   object \n",
      " 23  STORE_LINK             530 non-null     object \n",
      " 24  BRAND                  11938 non-null   object \n",
      " 25  STORE                  41812 non-null   object \n",
      " 26  PRICE_PER_KG/L_UNIT    81153 non-null   object \n",
      " 27  ENERGY_KJ              31034 non-null   object \n",
      " 28  SUB_SUB_CATEGORY       61538 non-null   object \n",
      " 29  ENERGY_KCAL            20834 non-null   float64\n",
      " 30  PRODUCT_BRAND          103548 non-null  object \n",
      " 31  PRODUCT_INFORMATION    0 non-null       float64\n",
      "dtypes: float64(10), int64(1), object(21)\n",
      "memory usage: 35.8+ MB\n"
     ]
    }
   ],
   "source": [
    "df.info()"
   ]
  },
  {
   "attachments": {},
   "cell_type": "markdown",
   "metadata": {},
   "source": [
    "# Cleaning CATEGORY column"
   ]
  },
  {
   "cell_type": "code",
   "execution_count": 6,
   "metadata": {},
   "outputs": [],
   "source": [
    "df_cat = df['CATEGORY'].sort_values().copy()"
   ]
  },
  {
   "cell_type": "code",
   "execution_count": 7,
   "metadata": {},
   "outputs": [],
   "source": [
    "df_cat = pd.DataFrame(df_cat.unique())\n",
    "df_cat.to_csv('categories_sorted.csv', index=False)"
   ]
  },
  {
   "cell_type": "code",
   "execution_count": 8,
   "metadata": {},
   "outputs": [],
   "source": [
    "df_clean = df.copy()"
   ]
  },
  {
   "cell_type": "code",
   "execution_count": 9,
   "metadata": {},
   "outputs": [],
   "source": [
    "df_clean = df.copy()"
   ]
  },
  {
   "cell_type": "code",
   "execution_count": 10,
   "metadata": {},
   "outputs": [],
   "source": [
    "df_clean['CATEGORY'] = df_clean['CATEGORY'].str.replace('Alkoholfreie GetrÃÂ¤nke','Beverage Alchol Free')"
   ]
  },
  {
   "cell_type": "code",
   "execution_count": 11,
   "metadata": {},
   "outputs": [],
   "source": [
    "df_clean['CATEGORY'] = df_clean['CATEGORY'].str.replace('Asia articles','Asia article')\n",
    "df_clean['CATEGORY'] = df_clean['CATEGORY'].str.replace('Asia article','Asia articles')"
   ]
  },
  {
   "cell_type": "code",
   "execution_count": 12,
   "metadata": {},
   "outputs": [],
   "source": [
    "df_clean['CATEGORY'] = df_clean['CATEGORY'].str.replace('Bakery products','Bakery')"
   ]
  },
  {
   "cell_type": "code",
   "execution_count": 13,
   "metadata": {},
   "outputs": [],
   "source": [
    "df_clean['CATEGORY'] = df_clean['CATEGORY'].str.replace('Beer, Wine & Spirits','Beverages')"
   ]
  },
  {
   "cell_type": "code",
   "execution_count": 14,
   "metadata": {},
   "outputs": [],
   "source": [
    "df_clean['CATEGORY'] = df_clean['CATEGORY'].str.replace('Bier','Beer')"
   ]
  },
  {
   "cell_type": "code",
   "execution_count": 15,
   "metadata": {},
   "outputs": [],
   "source": [
    "df_clean['CATEGORY'] = df_clean['CATEGORY'].str.replace('Bread & Baked Goods','Bread, baked goods, cereals and spreads')\n",
    "df_clean['CATEGORY'] = df_clean['CATEGORY'].str.replace('Bread, baked goods & spreads','Bread, baked goods, cereals and spreads')\n",
    "df_clean['CATEGORY'] = df_clean['CATEGORY'].str.replace('Bread, cereals and spreads','Bread, baked goods, cereals and spreads')"
   ]
  },
  {
   "cell_type": "code",
   "execution_count": 16,
   "metadata": {},
   "outputs": [],
   "source": [
    "df_clean['CATEGORY'] = df_clean['CATEGORY'].str.replace('Cheese & Plant Based Alternatives','Cheese')\n",
    "df_clean['CATEGORY'] = df_clean['CATEGORY'].str.replace('Cheese Eggs & Dairy','Cheese')\n",
    "df_clean['CATEGORY'] = df_clean['CATEGORY'].str.replace('Cheese_Alternatives','Cheese')\n",
    "df_clean['CATEGORY'] = df_clean['CATEGORY'].str.replace('Cheese','Cheese, Eggs and Alternatives')"
   ]
  },
  {
   "cell_type": "code",
   "execution_count": 17,
   "metadata": {},
   "outputs": [],
   "source": [
    "df_clean['CATEGORY'] = df_clean['CATEGORY'].str.replace('Chocolate & Sweets','Chocolate')\n",
    "df_clean['CATEGORY'] = df_clean['CATEGORY'].str.replace('Chocolate','Chocolate & Sweets')"
   ]
  },
  {
   "cell_type": "code",
   "execution_count": 18,
   "metadata": {},
   "outputs": [],
   "source": [
    "df_clean['CATEGORY'] = df_clean['CATEGORY'].str.replace('Cocoa & mixed drinks','Coffee')\n",
    "df_clean['CATEGORY'] = df_clean['CATEGORY'].str.replace('Coffee & Tea','Coffee')\n",
    "df_clean['CATEGORY'] = df_clean['CATEGORY'].str.replace('Coffee tea cocoa','Coffee')\n",
    "df_clean['CATEGORY'] = df_clean['CATEGORY'].str.replace('Coffee, tea & cocoa','Coffee')\n",
    "df_clean['CATEGORY'] = df_clean['CATEGORY'].str.replace('Coffee','Coffee, Tea, Cocoa and Mixed Drinks')"
   ]
  },
  {
   "cell_type": "code",
   "execution_count": 19,
   "metadata": {},
   "outputs": [],
   "source": [
    "df_clean['CATEGORY'] = df_clean['CATEGORY'].str.replace('Cookies_and_Pastries','Cookies and Pastries')"
   ]
  },
  {
   "cell_type": "code",
   "execution_count": 20,
   "metadata": {},
   "outputs": [],
   "source": [
    "df_clean['CATEGORY'] = df_clean['CATEGORY'].str.replace('Cook and enjoy','Cooking & Baking Ingredients')"
   ]
  },
  {
   "cell_type": "code",
   "execution_count": 21,
   "metadata": {},
   "outputs": [],
   "source": [
    "df_clean['CATEGORY'] = df_clean['CATEGORY'].str.replace('Dairy Products','Dairy products, eggs & plant-based alternatives')"
   ]
  },
  {
   "cell_type": "code",
   "execution_count": 22,
   "metadata": {},
   "outputs": [],
   "source": [
    "df_clean['CATEGORY'] = df_clean['CATEGORY'].str.replace('Delicatessen and Delicatessen','Delicatessen')"
   ]
  },
  {
   "cell_type": "code",
   "execution_count": 23,
   "metadata": {},
   "outputs": [],
   "source": [
    "df_clean['CATEGORY'] = df_clean['CATEGORY'].str.replace('Dishes, cutlery & glasses','Dishes')\n",
    "df_clean['CATEGORY'] = df_clean['CATEGORY'].str.replace('Dishes','Dishes, cutlery & glasses')"
   ]
  },
  {
   "cell_type": "code",
   "execution_count": 24,
   "metadata": {},
   "outputs": [],
   "source": [
    "df_clean['CATEGORY'] = df_clean['CATEGORY'].str.replace('Drinks, coffee & tea','Coffee, Tea, Cocoa and Mixed Drinks')\n",
    "df_clean['CATEGORY'] = df_clean['CATEGORY'].str.replace('Drink Coffee','Coffee, Tea, Cocoa and Mixed Drinks')"
   ]
  },
  {
   "cell_type": "code",
   "execution_count": 25,
   "metadata": {},
   "outputs": [],
   "source": [
    "df_clean['CATEGORY'] = df_clean['CATEGORY'].str.replace('Drinking Beer','Beer')"
   ]
  },
  {
   "cell_type": "code",
   "execution_count": 26,
   "metadata": {},
   "outputs": [],
   "source": [
    "df_clean['CATEGORY'] = df_clean['CATEGORY'].str.replace('Drink','Beverages')"
   ]
  },
  {
   "cell_type": "code",
   "execution_count": 27,
   "metadata": {},
   "outputs": [],
   "source": [
    "df_clean['CATEGORY'] = df_clean['CATEGORY'].str.replace('Drogerie & Hygiene','Drugsotore')\n",
    "df_clean['CATEGORY'] = df_clean['CATEGORY'].str.replace('Drugs & hygiene','Drugsotore')\n",
    "df_clean['CATEGORY'] = df_clean['CATEGORY'].str.replace('Drugstore & Cosmetics','Drugsotore')\n",
    "df_clean['CATEGORY'] = df_clean['CATEGORY'].str.replace('Drugstore','Drugsotore, Cosmetics and Hygiene')"
   ]
  },
  {
   "cell_type": "code",
   "execution_count": 28,
   "metadata": {},
   "outputs": [],
   "source": [
    "df_clean['CATEGORY'] = df_clean['CATEGORY'].str.replace('Fish & Seafood','Fish')\n",
    "df_clean['CATEGORY'] = df_clean['CATEGORY'].str.replace('Fish_Alternatives','Fish')\n",
    "df_clean['CATEGORY'] = df_clean['CATEGORY'].str.replace('Fish','Fish, Seafood and Alternatives')"
   ]
  },
  {
   "cell_type": "code",
   "execution_count": 29,
   "metadata": {},
   "outputs": [],
   "source": [
    "df_clean['CATEGORY'] = df_clean['CATEGORY'].str.replace('Fresh & ready','Fresh, Read and Chilled')\n",
    "df_clean['CATEGORY'] = df_clean['CATEGORY'].str.replace('Fresh And Chilled','Fresh, Read and Chilled')"
   ]
  },
  {
   "cell_type": "code",
   "execution_count": 30,
   "metadata": {},
   "outputs": [],
   "source": [
    "df_clean['CATEGORY'] = df_clean['CATEGORY'].str.replace('Frozen Foods','Frozen')"
   ]
  },
  {
   "cell_type": "code",
   "execution_count": 31,
   "metadata": {},
   "outputs": [],
   "source": [
    "df_clean['CATEGORY'] = df_clean['CATEGORY'].str.replace('GetrÃ¤nke','Beverages')"
   ]
  },
  {
   "cell_type": "code",
   "execution_count": 32,
   "metadata": {},
   "outputs": [],
   "source": [
    "df_clean['CATEGORY'] = df_clean['CATEGORY'].str.replace('Household technology','Household & Technology')"
   ]
  },
  {
   "cell_type": "code",
   "execution_count": 33,
   "metadata": {},
   "outputs": [],
   "source": [
    "df_clean['CATEGORY'] = df_clean['CATEGORY'].str.replace('Kitchen & House Hold','Kitchen Accessories')\n",
    "df_clean['CATEGORY'] = df_clean['CATEGORY'].str.replace('Kitchen, Cooking & Baking','Kitchen Accessories')\n"
   ]
  },
  {
   "cell_type": "code",
   "execution_count": 34,
   "metadata": {},
   "outputs": [],
   "source": [
    "df_clean['CATEGORY'] = df_clean['CATEGORY'].str.replace('Meat, sausage & fish','Meat')\n",
    "df_clean['CATEGORY'] = df_clean['CATEGORY'].str.replace('Meat & Fish','Meat')\n",
    "df_clean['CATEGORY'] = df_clean['CATEGORY'].str.replace('Meat fish','Meat')\n",
    "df_clean['CATEGORY'] = df_clean['CATEGORY'].str.replace('Meat_and_Sausage_Alternatives','Meat')\n",
    "df_clean['CATEGORY'] = df_clean['CATEGORY'].str.replace('Meat','Meat, Fish, Sausage and Alternatives')"
   ]
  },
  {
   "cell_type": "code",
   "execution_count": 35,
   "metadata": {},
   "outputs": [],
   "source": [
    "df_clean['CATEGORY'] = df_clean['CATEGORY'].str.replace('Oils, sauces & spices','Oils')\n",
    "df_clean['CATEGORY'] = df_clean['CATEGORY'].str.replace('Oil Vinegar','Oils')\n",
    "df_clean['CATEGORY'] = df_clean['CATEGORY'].str.replace('Oil, Vinegar & Dressings','Oils')\n",
    "df_clean['CATEGORY'] = df_clean['CATEGORY'].str.replace('Oils','Oils, Vinegar, Sauces and Spices')"
   ]
  },
  {
   "cell_type": "code",
   "execution_count": 36,
   "metadata": {},
   "outputs": [],
   "source": [
    "df_clean['CATEGORY'] = df_clean['CATEGORY'].str.replace('Organic, vegan, fair trade, lactose free, gluten free & more','Organics, Lactose Free, Gluten Free and Clean Eating')\n",
    "df_clean['CATEGORY'] = df_clean['CATEGORY'].str.replace('Organic & Clean Eating','Organics, Lactose Free, Gluten Free and Clean Eating')"
   ]
  },
  {
   "cell_type": "code",
   "execution_count": 37,
   "metadata": {},
   "outputs": [],
   "source": [
    "df_clean['CATEGORY'] = df_clean['CATEGORY'].str.replace('Party & Decoration','Party, Decoration and Joke Items')\n",
    "df_clean['CATEGORY'] = df_clean['CATEGORY'].str.replace('Party & Joke Items','Party, Decoration and Joke Items')"
   ]
  },
  {
   "cell_type": "code",
   "execution_count": 38,
   "metadata": {},
   "outputs": [],
   "source": [
    "df_clean['CATEGORY'] = df_clean['CATEGORY'].str.replace('Pasta, Rice & Legumes','Pasta')\n",
    "df_clean['CATEGORY'] = df_clean['CATEGORY'].str.replace('Pasta & Rice','Pasta')\n",
    "df_clean['CATEGORY'] = df_clean['CATEGORY'].str.replace('Pasta','Pasta, Rice and Alternatives')"
   ]
  },
  {
   "cell_type": "code",
   "execution_count": 39,
   "metadata": {},
   "outputs": [],
   "source": [
    "df_clean['CATEGORY'] = df_clean['CATEGORY'].str.replace('Preserved','Ready Meals')\n",
    "df_clean['CATEGORY'] = df_clean['CATEGORY'].str.replace('Preserves & Jars','Ready Meals')\n",
    "df_clean['CATEGORY'] = df_clean['CATEGORY'].str.replace('Preserves & Pickles','Ready Meals')\n",
    "df_clean['CATEGORY'] = df_clean['CATEGORY'].str.replace('Preserves & Ready Meals','Ready Meals')\n",
    "df_clean['CATEGORY'] = df_clean['CATEGORY'].str.replace('Ready Meals & Canned Food','Ready Meals')\n",
    "df_clean['CATEGORY'] = df_clean['CATEGORY'].str.replace('Ready meals & canned food','Ready Meals')\n",
    "df_clean['CATEGORY'] = df_clean['CATEGORY'].str.replace('Reday_Meals','Ready Meals')\n",
    "df_clean['CATEGORY'] = df_clean['CATEGORY'].str.replace('Ready Meals','Preserves, Ready Meals and Canned Food')"
   ]
  },
  {
   "cell_type": "code",
   "execution_count": 40,
   "metadata": {},
   "outputs": [],
   "source": [
    "df_clean['CATEGORY'] = df_clean['CATEGORY'].str.replace('Pasta, Rice and Alternatives', 'Rice')\n",
    "df_clean['CATEGORY'] = df_clean['CATEGORY'].str.replace('Rice And Noodles', 'Rice')\n",
    "df_clean['CATEGORY'] = df_clean['CATEGORY'].str.replace('Rice Noodles', 'Rice')\n",
    "df_clean['CATEGORY'] = df_clean['CATEGORY'].str.replace('Rice', 'Pasta, Rice, Noodles and Alternatives')"
   ]
  },
  {
   "cell_type": "code",
   "execution_count": 41,
   "metadata": {},
   "outputs": [],
   "source": [
    "df_clean['CATEGORY'] = df_clean['CATEGORY'].str.replace('Salt & Pepper', 'Salt')\n",
    "df_clean['CATEGORY'] = df_clean['CATEGORY'].str.replace('Salt', 'Salt, Pepper and Spices')"
   ]
  },
  {
   "cell_type": "code",
   "execution_count": 42,
   "metadata": {},
   "outputs": [],
   "source": [
    "df_clean['CATEGORY'] = df_clean['CATEGORY'].str.replace('Salty snacks', 'Salty Snacks')\n",
    "df_clean['CATEGORY'] = df_clean['CATEGORY'].str.replace('Salzy snacks', 'Salty Snacks')"
   ]
  },
  {
   "cell_type": "code",
   "execution_count": 43,
   "metadata": {},
   "outputs": [],
   "source": [
    "df_clean['CATEGORY'] = df_clean['CATEGORY'].str.replace('Sauce Ole Guort', 'Sauces')\n",
    "df_clean['CATEGORY'] = df_clean['CATEGORY'].str.replace('Sauces & Marinades', 'Sauces')\n",
    "df_clean['CATEGORY'] = df_clean['CATEGORY'].str.replace('Oils, Vinegar, Sauces and Spices', 'Sauces')\n",
    "df_clean['CATEGORY'] = df_clean['CATEGORY'].str.replace('Sauces','Oils, Vinegar, Marinades and Spices')"
   ]
  },
  {
   "cell_type": "code",
   "execution_count": 44,
   "metadata": {},
   "outputs": [],
   "source": [
    "df_clean['CATEGORY'] = df_clean['CATEGORY'].str.replace('Sausage & cold cuts','Sausage, Cold-cuts and Specialities')\n",
    "df_clean['CATEGORY'] = df_clean['CATEGORY'].str.replace('Sausage Specialities','Sausage, Cold-cuts and Specialities')"
   ]
  },
  {
   "cell_type": "code",
   "execution_count": 45,
   "metadata": {},
   "outputs": [],
   "source": [
    "df_clean['CATEGORY'] = df_clean['CATEGORY'].str.replace('Salty Snacks', 'Snacks')\n",
    "df_clean['CATEGORY'] = df_clean['CATEGORY'].str.replace('Snacks & Bars', 'Snacks')\n",
    "df_clean['CATEGORY'] = df_clean['CATEGORY'].str.replace('Snacks', 'Snacks and Bars')"
   ]
  },
  {
   "cell_type": "code",
   "execution_count": 46,
   "metadata": {},
   "outputs": [],
   "source": [
    "df_clean['CATEGORY'] = df_clean['CATEGORY'].str.replace('Soft drinks', 'Soft Drinks')"
   ]
  },
  {
   "cell_type": "code",
   "execution_count": 47,
   "metadata": {},
   "outputs": [],
   "source": [
    "df_clean['CATEGORY'] = df_clean['CATEGORY'].str.replace('Spices And Herbs', 'Spices')\n",
    "df_clean['CATEGORY'] = df_clean['CATEGORY'].str.replace('Spices & More', 'Spices')\n",
    "df_clean['CATEGORY'] = df_clean['CATEGORY'].str.replace('Spices & fix products', 'Spices')\n",
    "\n",
    "df_clean['CATEGORY'] = df_clean['CATEGORY'].str.replace('Oils, Vinegar, Marinades and Spices','Spices')\n",
    "df_clean['CATEGORY'] = df_clean['CATEGORY'].str.replace('Spices', 'Oils, Vinegar, Marinades and Spices')"
   ]
  },
  {
   "cell_type": "code",
   "execution_count": 48,
   "metadata": {},
   "outputs": [],
   "source": [
    "df_clean['CATEGORY'] = df_clean['CATEGORY'].str.replace('Spiritual long drinks', 'Spirits')\n",
    "df_clean['CATEGORY'] = df_clean['CATEGORY'].str.replace('Spirits & More', 'Spirits')"
   ]
  },
  {
   "cell_type": "code",
   "execution_count": 49,
   "metadata": {},
   "outputs": [],
   "source": [
    "df_clean['CATEGORY'] = df_clean['CATEGORY'].str.replace('Sports & outdoor activities', 'Sports')\n",
    "df_clean['CATEGORY'] = df_clean['CATEGORY'].str.replace('Sports Promotions', 'Sports')\n",
    "df_clean['CATEGORY'] = df_clean['CATEGORY'].str.replace('Sports', 'Sports and Outdoor Activities')"
   ]
  },
  {
   "cell_type": "code",
   "execution_count": 50,
   "metadata": {},
   "outputs": [],
   "source": [
    "df_clean['CATEGORY'] = df_clean['CATEGORY'].str.replace('Spreads & Cereals', 'Spreads, Cereals and Jams')\n",
    "df_clean['CATEGORY'] = df_clean['CATEGORY'].str.replace('Spreads & Jams', 'Spreads, Cereals and Jams')"
   ]
  },
  {
   "cell_type": "code",
   "execution_count": 51,
   "metadata": {},
   "outputs": [],
   "source": [
    "df_clean['CATEGORY'] = df_clean['CATEGORY'].str.replace('Supplies, sauces and condiments', 'Oils, Vinegar, Marinades and Spices')"
   ]
  },
  {
   "cell_type": "code",
   "execution_count": 52,
   "metadata": {},
   "outputs": [],
   "source": [
    "df_clean['CATEGORY'] = df_clean['CATEGORY'].str.replace('Sweet & Salty', 'Sweets')\n",
    "df_clean['CATEGORY'] = df_clean['CATEGORY'].str.replace('Sweets & Snacks', 'Sweets')\n",
    "df_clean['CATEGORY'] = df_clean['CATEGORY'].str.replace('Sweets', 'Sweets, Snacks and Bars')"
   ]
  },
  {
   "cell_type": "code",
   "execution_count": 53,
   "metadata": {},
   "outputs": [],
   "source": [
    "df_clean['CATEGORY'] = df_clean['CATEGORY'].str.replace('Tea-More','Coffee, Tea, Cocoa and Mixed Drinks')\n",
    "df_clean['CATEGORY'] = df_clean['CATEGORY'].str.replace('Tea - Coffee','Coffee, Tea, Cocoa and Mixed Drinks')"
   ]
  },
  {
   "cell_type": "code",
   "execution_count": 54,
   "metadata": {},
   "outputs": [],
   "source": [
    "df_clean['CATEGORY'] = df_clean['CATEGORY'].str.replace('Tinned And Canned','Preserves, Ready Meals and Canned Food')"
   ]
  },
  {
   "cell_type": "code",
   "execution_count": 55,
   "metadata": {},
   "outputs": [],
   "source": [
    "df_clean['CATEGORY'] = df_clean['CATEGORY'].str.replace('Vegan & Vegetarian','Vegan')\n",
    "df_clean['CATEGORY'] = df_clean['CATEGORY'].str.replace('Vegan diversity','Vegan')\n",
    "df_clean['CATEGORY'] = df_clean['CATEGORY'].str.replace('Vegetarian & vegan products','Vegan')\n",
    "df_clean['CATEGORY'] = df_clean['CATEGORY'].str.replace('Vegetarian vegan','Vegan')\n",
    "df_clean['CATEGORY'] = df_clean['CATEGORY'].str.replace('Vegan','Vegetarian and Vegan')"
   ]
  },
  {
   "cell_type": "code",
   "execution_count": 56,
   "metadata": {},
   "outputs": [],
   "source": [
    "df_clean['CATEGORY'] = df_clean['CATEGORY'].str.replace('Oils, Vinegar, Marinades and Spices', 'Vinegar')\n",
    "df_clean['CATEGORY'] = df_clean['CATEGORY'].str.replace('Vinegar oil', 'Vinegar')\n",
    "df_clean['CATEGORY'] = df_clean['CATEGORY'].str.replace('Vinegar, Oil & Salt', 'Vinegar')\n",
    "df_clean['CATEGORY'] = df_clean['CATEGORY'].str.replace('Vinegar','Oils, Vinegar, Marinades and Spices')"
   ]
  },
  {
   "cell_type": "code",
   "execution_count": 57,
   "metadata": {},
   "outputs": [],
   "source": [
    "df_clean['CATEGORY'] = df_clean['CATEGORY'].str.replace('Worlds Of Pleasure','Worlds of Pleasure')"
   ]
  },
  {
   "cell_type": "code",
   "execution_count": 58,
   "metadata": {},
   "outputs": [],
   "source": [
    "df_clean['CATEGORY'] = df_clean['CATEGORY'].str.replace('alcoholic drinks','Beverages')"
   ]
  },
  {
   "cell_type": "code",
   "execution_count": 59,
   "metadata": {},
   "outputs": [],
   "source": [
    "df_clean['CATEGORY'] = df_clean['CATEGORY'].str.replace('baby care','Baby Care, Food and Supplies')\n",
    "df_clean['CATEGORY'] = df_clean['CATEGORY'].str.replace('baby food','Baby Care, Food and Supplies')\n",
    "df_clean['CATEGORY'] = df_clean['CATEGORY'].str.replace('baby supplies','Baby Care, Food and Supplies')"
   ]
  },
  {
   "cell_type": "code",
   "execution_count": 60,
   "metadata": {},
   "outputs": [],
   "source": [
    "df_clean['CATEGORY'] = df_clean['CATEGORY'].str.replace('baking desserts','Bread, baked goods, cereals and spreads')"
   ]
  },
  {
   "cell_type": "code",
   "execution_count": 61,
   "metadata": {},
   "outputs": [],
   "source": [
    "df_clean['CATEGORY'] = df_clean['CATEGORY'].str.replace('bake cook','Bread, baked goods, cereals and spreads')"
   ]
  },
  {
   "cell_type": "code",
   "execution_count": 62,
   "metadata": {},
   "outputs": [],
   "source": [
    "df_clean['CATEGORY'] = df_clean['CATEGORY'].str.replace('bathroom equipment','Bathroom')\n"
   ]
  },
  {
   "cell_type": "code",
   "execution_count": 63,
   "metadata": {},
   "outputs": [],
   "source": [
    "df_clean['CATEGORY'] = df_clean['CATEGORY'].str.replace('bean-corn-rice','Bean, Corn and Rice')"
   ]
  },
  {
   "cell_type": "code",
   "execution_count": 64,
   "metadata": {},
   "outputs": [],
   "source": [
    "df_clean['CATEGORY'] = df_clean['CATEGORY'].str.replace('beer','Beer')\n",
    "df_clean['CATEGORY'] = df_clean['CATEGORY'].str.replace('beverages','Beverages')\n",
    "df_clean['CATEGORY'] = df_clean['CATEGORY'].str.replace('beverage','Beverages')"
   ]
  },
  {
   "cell_type": "code",
   "execution_count": 65,
   "metadata": {},
   "outputs": [],
   "source": [
    "\n",
    "df_clean['CATEGORY'] = df_clean['CATEGORY'].str.replace('building supplies','Building Supplies')"
   ]
  },
  {
   "cell_type": "code",
   "execution_count": 66,
   "metadata": {},
   "outputs": [],
   "source": [
    "df_clean['CATEGORY'] = df_clean['CATEGORY'].str.replace('canned goods','Preserves, Ready Meals and Canned Food')\n",
    "df_clean['CATEGORY'] = df_clean['CATEGORY'].str.replace('canned ready meals','Preserves, Ready Meals and Canned Food')"
   ]
  },
  {
   "cell_type": "code",
   "execution_count": 67,
   "metadata": {},
   "outputs": [],
   "source": [
    "df_clean['CATEGORY'] = df_clean['CATEGORY'].str.replace('cat dog','Pets')\n",
    "df_clean['CATEGORY'] = df_clean['CATEGORY'].str.replace('cats','Pets')"
   ]
  },
  {
   "cell_type": "code",
   "execution_count": 68,
   "metadata": {},
   "outputs": [],
   "source": [
    "df_clean['CATEGORY'] = df_clean['CATEGORY'].str.replace('catering supplies','Catering Supplies')"
   ]
  },
  {
   "cell_type": "code",
   "execution_count": 69,
   "metadata": {},
   "outputs": [],
   "source": [
    "df_clean['CATEGORY'] = df_clean['CATEGORY'].str.replace('cheese, eggs and dairy products','Cheese, Eggs and Alternatives')\n",
    "df_clean['CATEGORY'] = df_clean['CATEGORY'].str.replace('cheese','Cheese, Eggs and Alternatives')"
   ]
  },
  {
   "cell_type": "code",
   "execution_count": 70,
   "metadata": {},
   "outputs": [],
   "source": [
    "df_clean['CATEGORY'] = df_clean['CATEGORY'].str.replace('chewing gum','Chewing Gum')\n",
    "df_clean['CATEGORY'] = df_clean['CATEGORY'].str.replace(\"children's books\",\"Children's Books\")\n",
    "df_clean['CATEGORY'] = df_clean['CATEGORY'].str.replace(\"cleaning\",\"Cleaning\")\n",
    "\n",
    "df_clean['CATEGORY'] = df_clean['CATEGORY'].str.replace('coffee, tea','Coffee, Tea, Cocoa and Mixed Drinks')\n",
    "\n",
    "df_clean['CATEGORY'] = df_clean['CATEGORY'].str.replace('coffee-tea-cocoa','Coffee, Tea, Cocoa and Mixed Drinks')\n",
    "\n",
    "df_clean['CATEGORY'] = df_clean['CATEGORY'].str.replace('cold cuts','Sausage, Cold-cuts and Specialities')"
   ]
  },
  {
   "cell_type": "code",
   "execution_count": 71,
   "metadata": {},
   "outputs": [],
   "source": [
    "df_clean['CATEGORY'] = df_clean['CATEGORY'].str.capitalize()"
   ]
  },
  {
   "attachments": {},
   "cell_type": "markdown",
   "metadata": {},
   "source": [
    "### Cleaning CATEGORY Column - 2nd Round"
   ]
  },
  {
   "cell_type": "code",
   "execution_count": 72,
   "metadata": {},
   "outputs": [],
   "source": [
    "df_cat2 = df_clean['CATEGORY'].sort_values().copy()\n",
    "\n",
    "df_cat2 = pd.DataFrame(df_cat2.unique())\n",
    "df_cat2.to_csv('categories_sorted_2.csv', index=False)"
   ]
  },
  {
   "cell_type": "code",
   "execution_count": 73,
   "metadata": {},
   "outputs": [],
   "source": [
    "df_clean['CATEGORY'] = df_clean['CATEGORY'].str.replace('0','CATEGORY Unknown')"
   ]
  },
  {
   "cell_type": "code",
   "execution_count": 74,
   "metadata": {},
   "outputs": [],
   "source": [
    "df_clean['CATEGORY'] = df_clean['CATEGORY'].str.replace(' backwaren','Backwaren')\n",
    "df_clean['CATEGORY'] = df_clean['CATEGORY'].str.replace(' beverage alchol free','Beverages alcohol free')"
   ]
  },
  {
   "cell_type": "code",
   "execution_count": 75,
   "metadata": {},
   "outputs": [],
   "source": [
    "df_clean['CATEGORY'] = df_clean['CATEGORY'].str.replace('Baby care, food and supplies','Baby')\n",
    "df_clean['CATEGORY'] = df_clean['CATEGORY'].str.replace('Baby','Baby care, food and supplies')"
   ]
  },
  {
   "cell_type": "code",
   "execution_count": 76,
   "metadata": {},
   "outputs": [],
   "source": [
    "df_clean['CATEGORY'] = df_clean['CATEGORY'].str.replace('Baking ingredients & sweeteners','Bakery')\n",
    "df_clean['CATEGORY'] = df_clean['CATEGORY'].str.replace('Baking & desserts','Bakery')\n",
    "df_clean['CATEGORY'] = df_clean['CATEGORY'].str.replace('Bakery','Bakery, desserts and sweeteners')"
   ]
  },
  {
   "cell_type": "code",
   "execution_count": 77,
   "metadata": {},
   "outputs": [],
   "source": [
    "df_clean['CATEGORY'] = df_clean['CATEGORY'].str.replace('Beverages coffee, tea, cocoa and mixed beveragess','Coffee, tea, cocoa and mixed drinks')\n",
    "df_clean['CATEGORY'] = df_clean['CATEGORY'].str.replace('Beveragess, coffee & tea','Coffee, tea, cocoa and mixed drinks')"
   ]
  },
  {
   "cell_type": "code",
   "execution_count": 78,
   "metadata": {},
   "outputs": [],
   "source": [
    "df_clean['CATEGORY'] = df_clean['CATEGORY'].str.replace('Cat dog','Pets')"
   ]
  },
  {
   "cell_type": "code",
   "execution_count": 79,
   "metadata": {},
   "outputs": [],
   "source": [
    "df_clean['CATEGORY'] = df_clean['CATEGORY'].str.replace('Candy','Chocolate, sweets, snacks and bars')\n",
    "df_clean['CATEGORY'] = df_clean['CATEGORY'].str.replace('Chocolate & sweets, snacks and bars','Chocolate, sweets, snacks and bars')"
   ]
  },
  {
   "cell_type": "code",
   "execution_count": 80,
   "metadata": {},
   "outputs": [],
   "source": [
    "df_clean['CATEGORY'] = df_clean['CATEGORY'].str.replace('Coffee, tea, cocoa and mixed beveragess','Coffee, tea, cocoa and mixed drinks')\n",
    "df_clean['CATEGORY'] = df_clean['CATEGORY'].str.replace('Coffee, tea, cocoa and mixed drinks, tea, cocoa and mixed beveragess','Coffee, tea, cocoa and mixed drinks')"
   ]
  },
  {
   "cell_type": "code",
   "execution_count": 81,
   "metadata": {},
   "outputs": [],
   "source": [
    "df_clean['CATEGORY'] = df_clean['CATEGORY'].str.replace('Cooking & baking ingredients','Cooking, baking and ingredients')\n",
    "df_clean['CATEGORY'] = df_clean['CATEGORY'].str.replace('Cooking & baking','Cooking, baking and ingredients')"
   ]
  },
  {
   "cell_type": "code",
   "execution_count": 82,
   "metadata": {},
   "outputs": [],
   "source": [
    "df_clean['CATEGORY'] = df_clean['CATEGORY'].str.replace('Drugsotore','Drugstore')\n",
    "df_clean['CATEGORY'] = df_clean['CATEGORY'].str.replace('Drugstore hygiene','Drugstore')\n",
    "df_clean['CATEGORY'] = df_clean['CATEGORY'].str.replace('Drugstore-and-household','Drugstore')"
   ]
  },
  {
   "cell_type": "code",
   "execution_count": 83,
   "metadata": {},
   "outputs": [],
   "source": [
    "df_clean['CATEGORY'] = df_clean['CATEGORY'].str.replace('Egg-milk butter','Eggs, milk and butter')\n",
    "df_clean['CATEGORY'] = df_clean['CATEGORY'].str.replace('Egg-milk','Eggs, milk and butter')\n",
    "df_clean['CATEGORY'] = df_clean['CATEGORY'].str.replace('Eggs and milk','Eggs, milk and butter')"
   ]
  },
  {
   "cell_type": "code",
   "execution_count": 84,
   "metadata": {},
   "outputs": [],
   "source": [
    "df_clean['CATEGORY'] = df_clean['CATEGORY'].str.replace('Flour ready mixes','Flour & grain')"
   ]
  },
  {
   "cell_type": "code",
   "execution_count": 85,
   "metadata": {},
   "outputs": [],
   "source": [
    "df_clean['CATEGORY'] = df_clean['CATEGORY'].str.replace('Fresh products','Fresh, read and chilled')\n",
    "df_clean['CATEGORY'] = df_clean['CATEGORY'].str.replace('Fresh-ready','Fresh, read and chilled')\n",
    "df_clean['CATEGORY'] = df_clean['CATEGORY'].str.replace('Freshly','Fresh, read and chilled')"
   ]
  },
  {
   "cell_type": "code",
   "execution_count": 86,
   "metadata": {},
   "outputs": [],
   "source": [
    "df_clean['CATEGORY'] = df_clean['CATEGORY'].str.replace('Frozen products','Frozen')"
   ]
  },
  {
   "cell_type": "code",
   "execution_count": 87,
   "metadata": {},
   "outputs": [],
   "source": [
    "df_clean['CATEGORY'] = df_clean['CATEGORY'].str.replace('Fruit and vegetables','Fruit')\n",
    "df_clean['CATEGORY'] = df_clean['CATEGORY'].str.replace('Fruit vegetable','Fruit')\n",
    "df_clean['CATEGORY'] = df_clean['CATEGORY'].str.replace('Fruits & vegetables','Fruit')\n",
    "df_clean['CATEGORY'] = df_clean['CATEGORY'].str.replace('Fruit','Fruits and vegetables')"
   ]
  },
  {
   "cell_type": "code",
   "execution_count": 88,
   "metadata": {},
   "outputs": [],
   "source": [
    "df_clean['CATEGORY'] = df_clean['CATEGORY'].str.replace('Garden & irrigation tools','Gardening')"
   ]
  },
  {
   "cell_type": "code",
   "execution_count": 89,
   "metadata": {},
   "outputs": [
    {
     "name": "stderr",
     "output_type": "stream",
     "text": [
      "C:\\Users\\walla\\AppData\\Local\\Temp\\ipykernel_155660\\3640447463.py:1: FutureWarning: The default value of regex will change from True to False in a future version.\n",
      "  df_clean['CATEGORY'] = df_clean['CATEGORY'].str.replace('Gewã1?4rze','CATEGORY Unknown')\n"
     ]
    }
   ],
   "source": [
    "df_clean['CATEGORY'] = df_clean['CATEGORY'].str.replace('Gewã1?4rze','CATEGORY Unknown')"
   ]
  },
  {
   "cell_type": "code",
   "execution_count": 90,
   "metadata": {},
   "outputs": [],
   "source": [
    "df_clean['CATEGORY'] = df_clean['CATEGORY'].str.replace('Gift baskets & delicatessen gifts','Gifts')\n",
    "df_clean['CATEGORY'] = df_clean['CATEGORY'].str.replace('Gift books','Gifts')\n",
    "df_clean['CATEGORY'] = df_clean['CATEGORY'].str.replace('Gift ideas','Gifts')"
   ]
  },
  {
   "cell_type": "code",
   "execution_count": 91,
   "metadata": {},
   "outputs": [],
   "source": [
    "df_clean['CATEGORY'] = df_clean['CATEGORY'].str.replace('Home & leisure','Home, household, housewares and decoration')\n",
    "df_clean['CATEGORY'] = df_clean['CATEGORY'].str.replace('Home accessories & decoration','Home, household, housewares and decoration')\n",
    "df_clean['CATEGORY'] = df_clean['CATEGORY'].str.replace('Household & technology','Home, household, housewares and decoration')\n",
    "df_clean['CATEGORY'] = df_clean['CATEGORY'].str.replace('Household technology','Home, household, housewares and decoration')\n",
    "df_clean['CATEGORY'] = df_clean['CATEGORY'].str.replace('Household-and-living','Home, household, housewares and decoration')\n",
    "df_clean['CATEGORY'] = df_clean['CATEGORY'].str.replace('Housewares','Home, household, housewares and decoration')"
   ]
  },
  {
   "cell_type": "code",
   "execution_count": 92,
   "metadata": {},
   "outputs": [],
   "source": [
    "df_clean['CATEGORY'] = df_clean['CATEGORY'].str.replace('Hunting & fish, seafood and alternativesing','Hunting and Fishing')"
   ]
  },
  {
   "cell_type": "code",
   "execution_count": 93,
   "metadata": {},
   "outputs": [],
   "source": [
    "df_clean['CATEGORY'] = df_clean['CATEGORY'].str.replace('Eis','Ice')"
   ]
  },
  {
   "cell_type": "code",
   "execution_count": 94,
   "metadata": {},
   "outputs": [],
   "source": [
    "df_clean['CATEGORY'] = df_clean['CATEGORY'].str.replace('Ingrediants','Ingredients')"
   ]
  },
  {
   "cell_type": "code",
   "execution_count": 95,
   "metadata": {},
   "outputs": [
    {
     "name": "stderr",
     "output_type": "stream",
     "text": [
      "C:\\Users\\walla\\AppData\\Local\\Temp\\ipykernel_155660\\3052911983.py:1: FutureWarning: The default value of regex will change from True to False in a future version.\n",
      "  df_clean['CATEGORY'] = df_clean['CATEGORY'].str.replace('Kã1?4chengerã¤te','CATEGORY Unknown')\n"
     ]
    }
   ],
   "source": [
    "df_clean['CATEGORY'] = df_clean['CATEGORY'].str.replace('Kã1?4chengerã¤te','CATEGORY Unknown')"
   ]
  },
  {
   "cell_type": "code",
   "execution_count": 96,
   "metadata": {},
   "outputs": [],
   "source": [
    "df_clean['CATEGORY'] = df_clean['CATEGORY'].str.replace('Meat fish','Meat, fish, sausage and alternatives')\n",
    "df_clean['CATEGORY'] = df_clean['CATEGORY'].str.replace('Meat and sausage','Meat, fish, sausage and alternatives')\n",
    "df_clean['CATEGORY'] = df_clean['CATEGORY'].str.replace('Meat, fish, sausage and alternatives & sausages','Meat, fish, sausage and alternatives')\n",
    "df_clean['CATEGORY'] = df_clean['CATEGORY'].str.replace('Meat, fish, sausage and alternatives, seafood and alternatives','Meat, fish, sausage and alternatives')"
   ]
  },
  {
   "cell_type": "code",
   "execution_count": 97,
   "metadata": {},
   "outputs": [],
   "source": [
    "df_clean['CATEGORY'] = df_clean['CATEGORY'].str.replace('Noodles-rice-cereals','Pasta, rice, noodles and alternatives')\n",
    "df_clean['CATEGORY'] = df_clean['CATEGORY'].str.replace('Instant noodles','Pasta, rice, noodles and alternatives')\n"
   ]
  },
  {
   "cell_type": "code",
   "execution_count": 98,
   "metadata": {},
   "outputs": [],
   "source": [
    "df_clean['CATEGORY'] = df_clean['CATEGORY'].str.replace('Pasta, rice and cereals','Pasta, rice, noodles and alternatives')"
   ]
  },
  {
   "cell_type": "code",
   "execution_count": 99,
   "metadata": {},
   "outputs": [],
   "source": [
    "df_clean['CATEGORY'] = df_clean['CATEGORY'].str.replace('Nuts & dried fruits','Dried fruits and nuts')"
   ]
  },
  {
   "cell_type": "code",
   "execution_count": 100,
   "metadata": {},
   "outputs": [],
   "source": [
    "df_clean['CATEGORY'] = df_clean['CATEGORY'].str.replace('Office electronics','Office supplies and electronics')\n",
    "df_clean['CATEGORY'] = df_clean['CATEGORY'].str.replace('Office supplies','Office supplies and electronics')"
   ]
  },
  {
   "cell_type": "code",
   "execution_count": 101,
   "metadata": {},
   "outputs": [],
   "source": [
    "\n",
    "df_clean['CATEGORY'] = df_clean['CATEGORY'].str.replace('Oils, vinegar, marinades and spices, pepper and oils, vinegar, marinades and spices','Oils, vinegar, marinades and spices')"
   ]
  },
  {
   "cell_type": "code",
   "execution_count": 102,
   "metadata": {},
   "outputs": [],
   "source": [
    "df_clean['CATEGORY'] = df_clean['CATEGORY'].str.replace('Pasta, rice and cereals','Pasta, rice, cereals, noodles and alternatives')\n",
    "df_clean['CATEGORY'] = df_clean['CATEGORY'].str.replace('Pasta, rice, noodles and alternatives','Pasta, rice, cereals, noodles and alternatives')"
   ]
  },
  {
   "cell_type": "code",
   "execution_count": 103,
   "metadata": {},
   "outputs": [],
   "source": [
    "df_clean['CATEGORY'] = df_clean['CATEGORY'].str.replace('Pet food','Pets')\n",
    "df_clean['CATEGORY'] = df_clean['CATEGORY'].str.replace('Pet supplies','Pets')"
   ]
  },
  {
   "cell_type": "code",
   "execution_count": 104,
   "metadata": {},
   "outputs": [],
   "source": [
    "df_clean['CATEGORY'] = df_clean['CATEGORY'].str.replace('Plant flowers','Plant')"
   ]
  },
  {
   "cell_type": "code",
   "execution_count": 105,
   "metadata": {},
   "outputs": [],
   "source": [
    "df_clean['CATEGORY'] = df_clean['CATEGORY'].str.replace('Salt, pepper and oils, vinegar, marinades and spicesy snacks','Snacks')\n",
    "df_clean['CATEGORY'] = df_clean['CATEGORY'].str.replace('Salty-snacks','Snacks')"
   ]
  },
  {
   "cell_type": "code",
   "execution_count": 106,
   "metadata": {},
   "outputs": [],
   "source": [
    "df_clean['CATEGORY'] = df_clean['CATEGORY'].str.replace('Sauce-oil-spices','Salt, pepper and oils, vinegar, marinades and spices')"
   ]
  },
  {
   "cell_type": "code",
   "execution_count": 107,
   "metadata": {},
   "outputs": [],
   "source": [
    "df_clean['CATEGORY'] = df_clean['CATEGORY'].str.replace('Snack items','Sweets, snacks and bars')\n",
    "df_clean['CATEGORY'] = df_clean['CATEGORY'].str.replace('Snacks and bars','Sweets, snacks and bars')\n",
    "df_clean['CATEGORY'] = df_clean['CATEGORY'].str.replace('Sweet & salt, pepper and oils, vinegar, marinades and spicesy','Sweets, snacks and bars')\n",
    "df_clean['CATEGORY'] = df_clean['CATEGORY'].str.replace('Sweet snacks','Sweets, snacks and bars')\n",
    "df_clean['CATEGORY'] = df_clean['CATEGORY'].str.replace('Sweets, snacks and bars and bars','Sweets, snacks and bars')\n",
    "df_clean['CATEGORY'] = df_clean['CATEGORY'].str.replace('Sweets-and-snacks','Sweets, snacks and bars')"
   ]
  },
  {
   "cell_type": "code",
   "execution_count": 108,
   "metadata": {},
   "outputs": [
    {
     "name": "stderr",
     "output_type": "stream",
     "text": [
      "C:\\Users\\walla\\AppData\\Local\\Temp\\ipykernel_155660\\2175566826.py:1: FutureWarning: The default value of regex will change from True to False in a future version.\n",
      "  df_clean['CATEGORY'] = df_clean['CATEGORY'].str.replace('Tet fest - tã¡o3?4t','CATEGORY Unknown')\n"
     ]
    }
   ],
   "source": [
    "df_clean['CATEGORY'] = df_clean['CATEGORY'].str.replace('Tet fest - tã¡o3?4t','CATEGORY Unknown')"
   ]
  },
  {
   "cell_type": "code",
   "execution_count": 109,
   "metadata": {},
   "outputs": [],
   "source": [
    "df_clean['CATEGORY'] = df_clean['CATEGORY'].str.replace('Tiefkã¼hlwaren - garnelen- tã´m cã¡c loáº¡i','CATEGORY Unknown')\n",
    "df_clean['CATEGORY'] = df_clean['CATEGORY'].str.replace('Tiefkã¼hlwaren - thá»±c pháº©m äãng láº nh','CATEGORY Unknown')"
   ]
  },
  {
   "cell_type": "code",
   "execution_count": 110,
   "metadata": {},
   "outputs": [],
   "source": [
    "df_clean['CATEGORY'] = df_clean['CATEGORY'].str.replace('Vegan-vegetarian','Vegetarian and vegan')"
   ]
  },
  {
   "cell_type": "code",
   "execution_count": 111,
   "metadata": {},
   "outputs": [],
   "source": [
    "df_clean['CATEGORY'] = df_clean['CATEGORY'].str.replace('Wine & sparkling wine','Wine')\n",
    "df_clean['CATEGORY'] = df_clean['CATEGORY'].str.replace('Wine sparkling wine','Wine')"
   ]
  },
  {
   "cell_type": "code",
   "execution_count": 112,
   "metadata": {},
   "outputs": [],
   "source": [
    "df_clean['CATEGORY'] = df_clean['CATEGORY'].str.replace('Y-snacks','Snacks')\n",
    "df_clean['CATEGORY'] = df_clean['CATEGORY'].str.replace('Yoghurt desserts','Yoghurts and desserts')\n",
    "df_clean['CATEGORY'] = df_clean['CATEGORY'].str.replace('Yoghurt & desserts','Yoghurts and desserts')"
   ]
  },
  {
   "cell_type": "code",
   "execution_count": 113,
   "metadata": {},
   "outputs": [],
   "source": [
    "df_clean['CATEGORY'] = df_clean['CATEGORY'].str.replace('Artist pages filter nodes','Arts and crafts')"
   ]
  },
  {
   "cell_type": "code",
   "execution_count": 114,
   "metadata": {},
   "outputs": [],
   "source": [
    "df_clean['CATEGORY'] = df_clean['CATEGORY'].str.replace('Asia-week','Asia articles')"
   ]
  },
  {
   "cell_type": "code",
   "execution_count": 115,
   "metadata": {},
   "outputs": [],
   "source": [
    "df_clean['CATEGORY'] = df_clean['CATEGORY'].str.replace('Baby care, food and supplies & toddler toys','Baby care, food and supplies')"
   ]
  },
  {
   "cell_type": "code",
   "execution_count": 116,
   "metadata": {},
   "outputs": [],
   "source": [
    "df_clean['CATEGORY'] = df_clean['CATEGORY'].str.replace('Backwaren','Bakery, desserts and sweeteners')"
   ]
  },
  {
   "cell_type": "code",
   "execution_count": 117,
   "metadata": {},
   "outputs": [],
   "source": [
    "df_clean['CATEGORY'] = df_clean['CATEGORY'].str.replace('Basic ingredients','Basic')"
   ]
  },
  {
   "cell_type": "code",
   "execution_count": 118,
   "metadata": {},
   "outputs": [],
   "source": [
    "df_clean['CATEGORY'] = df_clean['CATEGORY'].str.replace('Bathroom','Bathing & body care')"
   ]
  },
  {
   "cell_type": "code",
   "execution_count": 119,
   "metadata": {},
   "outputs": [],
   "source": [
    "df_clean['CATEGORY'] = df_clean['CATEGORY'].str.replace('Beverages & luxury foods','Beverages')\n",
    "df_clean['CATEGORY'] = df_clean['CATEGORY'].str.replace('Beverages alcohol free','Beverages')"
   ]
  },
  {
   "cell_type": "code",
   "execution_count": null,
   "metadata": {},
   "outputs": [],
   "source": [
    "df_clean['CATEGORY'] = df_clean['CATEGORY'].str.replace('Cleaning & care','Cleaning')"
   ]
  },
  {
   "cell_type": "code",
   "execution_count": null,
   "metadata": {},
   "outputs": [],
   "source": [
    "df_clean['CATEGORY'] = df_clean['CATEGORY'].str.replace('Deli counter','Delicatessen')"
   ]
  },
  {
   "cell_type": "code",
   "execution_count": null,
   "metadata": {},
   "outputs": [],
   "source": [
    "df_clean['CATEGORY'] = df_clean['CATEGORY'].str.replace('Electrical installation','Electrical appliances')\n",
    "df_clean['CATEGORY'] = df_clean['CATEGORY'].str.replace('Electrical kitchen appliances','Electrical appliances')\n"
   ]
  },
  {
   "cell_type": "code",
   "execution_count": null,
   "metadata": {},
   "outputs": [],
   "source": [
    "df_clean['CATEGORY'] = df_clean['CATEGORY'].str.replace('Enjoy internationally','Enjoy delicacy')\n",
    "df_clean['CATEGORY'] = df_clean['CATEGORY'].str.replace('Enjoy-cheap-snack-delicacy','Enjoy delicacy')"
   ]
  },
  {
   "cell_type": "code",
   "execution_count": null,
   "metadata": {},
   "outputs": [],
   "source": [
    "df_clean['CATEGORY'] = df_clean['CATEGORY'].str.replace('Fifty-years-penny-cheap','Fifty years penny cheap')\n",
    "df_clean['CATEGORY'] = df_clean['CATEGORY'].str.replace('Fifty-years-penny-cheap1','Fifty years penny cheap')"
   ]
  },
  {
   "cell_type": "code",
   "execution_count": null,
   "metadata": {},
   "outputs": [],
   "source": [
    "df_clean['CATEGORY'] = df_clean['CATEGORY'].str.replace('Food & beverage: products with an eco-label','Food')\n",
    "df_clean['CATEGORY'] = df_clean['CATEGORY'].str.replace('Food-highlights-for-everyone','Food')\n"
   ]
  },
  {
   "cell_type": "code",
   "execution_count": null,
   "metadata": {},
   "outputs": [],
   "source": [
    "df_clean['CATEGORY'] = df_clean['CATEGORY'].str.replace('International kitchen','International diversity')"
   ]
  },
  {
   "cell_type": "code",
   "execution_count": null,
   "metadata": {},
   "outputs": [],
   "source": [
    "df_clean['CATEGORY'] = df_clean['CATEGORY'].str.replace('Office supplies and electronics and electronics','Office supplies and electronics')"
   ]
  },
  {
   "cell_type": "code",
   "execution_count": null,
   "metadata": {},
   "outputs": [],
   "source": [
    "df_clean['CATEGORY'] = df_clean['CATEGORY'].str.replace('Organics, lactose free, gluten free and clean eating','Organic')"
   ]
  },
  {
   "cell_type": "code",
   "execution_count": null,
   "metadata": {},
   "outputs": [],
   "source": [
    "df_clean['CATEGORY'] = df_clean['CATEGORY'].str.replace('Sauces, oils and condiments','Sauces')"
   ]
  },
  {
   "cell_type": "code",
   "execution_count": null,
   "metadata": {},
   "outputs": [],
   "source": [
    "df_clean['CATEGORY'] = df_clean['CATEGORY'].str.replace('Sausage, cold-cuts and specialities','Sausage')\n"
   ]
  },
  {
   "cell_type": "code",
   "execution_count": null,
   "metadata": {},
   "outputs": [],
   "source": [
    "df_clean['CATEGORY'] = df_clean['CATEGORY'].str.replace('Soft drinks','Soft beveragess')"
   ]
  },
  {
   "cell_type": "code",
   "execution_count": null,
   "metadata": {},
   "outputs": [],
   "source": [
    "df_clean['CATEGORY'] = df_clean['CATEGORY'].str.replace('Spirits-more','Spirits')"
   ]
  },
  {
   "cell_type": "code",
   "execution_count": null,
   "metadata": {},
   "outputs": [],
   "source": [
    "df_clean['CATEGORY'] = df_clean['CATEGORY'].str.replace('Spreads, cereals and jams','Spreads')"
   ]
  },
  {
   "cell_type": "code",
   "execution_count": null,
   "metadata": {},
   "outputs": [],
   "source": [
    "df_clean['CATEGORY'] = df_clean['CATEGORY'].str.replace('Sushi section','Sushi')\n",
    "df_clean['CATEGORY'] = df_clean['CATEGORY'].str.replace('Sushi snacks','Sushi')"
   ]
  },
  {
   "cell_type": "code",
   "execution_count": null,
   "metadata": {},
   "outputs": [],
   "source": [
    "df_clean['CATEGORY'] = df_clean['CATEGORY'].str.replace('Sweets, snacks and bars','Sweets')"
   ]
  },
  {
   "cell_type": "code",
   "execution_count": null,
   "metadata": {},
   "outputs": [],
   "source": [
    "df_clean.to_csv('final3_clean-CATEGORY.csv',index=False)"
   ]
  },
  {
   "cell_type": "code",
   "execution_count": null,
   "metadata": {},
   "outputs": [],
   "source": []
  }
 ],
 "metadata": {
  "kernelspec": {
   "display_name": "omdena_berlin_grocery",
   "language": "python",
   "name": "python3"
  },
  "language_info": {
   "codemirror_mode": {
    "name": "ipython",
    "version": 3
   },
   "file_extension": ".py",
   "mimetype": "text/x-python",
   "name": "python",
   "nbconvert_exporter": "python",
   "pygments_lexer": "ipython3",
   "version": "3.9.16"
  },
  "orig_nbformat": 4
 },
 "nbformat": 4,
 "nbformat_minor": 2
}
